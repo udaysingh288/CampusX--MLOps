{
 "cells": [
  {
   "cell_type": "code",
   "execution_count": 1,
   "metadata": {},
   "outputs": [
    {
     "name": "stdout",
     "output_type": "stream",
     "text": [
      "Requirement already satisfied: cookiecutter in /Users/drdre/anaconda3/lib/python3.10/site-packages (1.7.3)\n",
      "Requirement already satisfied: requests>=2.23.0 in /Users/drdre/anaconda3/lib/python3.10/site-packages (from cookiecutter) (2.28.1)\n",
      "Requirement already satisfied: Jinja2<4.0.0,>=2.7 in /Users/drdre/anaconda3/lib/python3.10/site-packages (from cookiecutter) (3.1.2)\n",
      "Requirement already satisfied: jinja2-time>=0.2.0 in /Users/drdre/anaconda3/lib/python3.10/site-packages (from cookiecutter) (0.2.0)\n",
      "Requirement already satisfied: click>=7.0 in /Users/drdre/anaconda3/lib/python3.10/site-packages (from cookiecutter) (8.0.4)\n",
      "Requirement already satisfied: six>=1.10 in /Users/drdre/anaconda3/lib/python3.10/site-packages (from cookiecutter) (1.16.0)\n",
      "Requirement already satisfied: poyo>=0.5.0 in /Users/drdre/anaconda3/lib/python3.10/site-packages (from cookiecutter) (0.5.0)\n",
      "Requirement already satisfied: python-slugify>=4.0.0 in /Users/drdre/anaconda3/lib/python3.10/site-packages (from cookiecutter) (5.0.2)\n",
      "Requirement already satisfied: binaryornot>=0.4.4 in /Users/drdre/anaconda3/lib/python3.10/site-packages (from cookiecutter) (0.4.4)\n",
      "Requirement already satisfied: chardet>=3.0.2 in /Users/drdre/anaconda3/lib/python3.10/site-packages (from binaryornot>=0.4.4->cookiecutter) (4.0.0)\n",
      "Requirement already satisfied: MarkupSafe>=2.0 in /Users/drdre/anaconda3/lib/python3.10/site-packages (from Jinja2<4.0.0,>=2.7->cookiecutter) (2.1.1)\n",
      "Requirement already satisfied: arrow in /Users/drdre/anaconda3/lib/python3.10/site-packages (from jinja2-time>=0.2.0->cookiecutter) (1.2.3)\n",
      "Requirement already satisfied: text-unidecode>=1.3 in /Users/drdre/anaconda3/lib/python3.10/site-packages (from python-slugify>=4.0.0->cookiecutter) (1.3)\n",
      "Requirement already satisfied: urllib3<1.27,>=1.21.1 in /Users/drdre/anaconda3/lib/python3.10/site-packages (from requests>=2.23.0->cookiecutter) (1.26.14)\n",
      "Requirement already satisfied: charset-normalizer<3,>=2 in /Users/drdre/anaconda3/lib/python3.10/site-packages (from requests>=2.23.0->cookiecutter) (2.0.4)\n",
      "Requirement already satisfied: certifi>=2017.4.17 in /Users/drdre/anaconda3/lib/python3.10/site-packages (from requests>=2.23.0->cookiecutter) (2023.7.22)\n",
      "Requirement already satisfied: idna<4,>=2.5 in /Users/drdre/anaconda3/lib/python3.10/site-packages (from requests>=2.23.0->cookiecutter) (3.4)\n",
      "Requirement already satisfied: python-dateutil>=2.7.0 in /Users/drdre/anaconda3/lib/python3.10/site-packages (from arrow->jinja2-time>=0.2.0->cookiecutter) (2.8.2)\n",
      "Note: you may need to restart the kernel to use updated packages.\n"
     ]
    }
   ],
   "source": [
    "pip install cookiecutter"
   ]
  },
  {
   "cell_type": "code",
   "execution_count": 2,
   "metadata": {},
   "outputs": [
    {
     "ename": "SyntaxError",
     "evalue": "invalid syntax (4137790210.py, line 1)",
     "output_type": "error",
     "traceback": [
      "\u001b[0;36m  Cell \u001b[0;32mIn[2], line 1\u001b[0;36m\u001b[0m\n\u001b[0;31m    cookiecutter -c v1 https::/github.com/drivendata/cookiecutter-data-science\u001b[0m\n\u001b[0m                    ^\u001b[0m\n\u001b[0;31mSyntaxError\u001b[0m\u001b[0;31m:\u001b[0m invalid syntax\n"
     ]
    }
   ],
   "source": [
    "cookiecutter -c v1 https::/github.com/drivendata/cookiecutter-data-science"
   ]
  },
  {
   "cell_type": "code",
   "execution_count": null,
   "metadata": {},
   "outputs": [],
   "source": []
  }
 ],
 "metadata": {
  "kernelspec": {
   "display_name": "base",
   "language": "python",
   "name": "python3"
  },
  "language_info": {
   "codemirror_mode": {
    "name": "ipython",
    "version": 3
   },
   "file_extension": ".py",
   "mimetype": "text/x-python",
   "name": "python",
   "nbconvert_exporter": "python",
   "pygments_lexer": "ipython3",
   "version": "3.10.9"
  }
 },
 "nbformat": 4,
 "nbformat_minor": 2
}
